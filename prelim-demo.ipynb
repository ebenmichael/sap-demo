{
 "cells": [
  {
   "cell_type": "code",
   "execution_count": 1,
   "metadata": {},
   "outputs": [
    {
     "name": "stderr",
     "output_type": "stream",
     "text": [
      "\n",
      "Attaching package: ‘dplyr’\n",
      "\n",
      "The following objects are masked from ‘package:stats’:\n",
      "\n",
      "    filter, lag\n",
      "\n",
      "The following objects are masked from ‘package:base’:\n",
      "\n",
      "    intersect, setdiff, setequal, union\n",
      "\n"
     ]
    }
   ],
   "source": [
    "library(dplyr)\n",
    "library(magrittr)\n",
    "set.seed(12345)\n",
    "# Generate fake data for the demo\n",
    "n <- 5000\n",
    "data <- data.frame(list(gender=sample(c(0,1), n, replace=TRUE)))\n",
    "data$age <- rnorm(n, mean=40, sd=10)\n",
    "data$cigsperday <- rpois(n, 20)\n",
    "data$timefromwaking <- rpois(n, 40)\n",
    "# intention to quit\n",
    "data$intquit <- sample(4, n, replace=TRUE)\n",
    "# determination to quit\n",
    "data$determquit <- sample(5, n, replace=TRUE)\n",
    "# live with smokers\n",
    "data$livesmoke <- sample(c(0,1), n, replace=TRUE)\n",
    "# deprevation\n",
    "data$imd <- rnorm(n, mean=2000, sd=100)\n",
    "# previous NHS SSS attendance\n",
    "data$prev <- sample(c(0,1), n, replace=TRUE)\n",
    "\n",
    "# treatment assignment\n",
    "n_t <- floor(3/5 * n)\n",
    "data$treated <- c(rep(1, n_t), rep(0, n-n_t))\n",
    "\n",
    "# entering the service\n",
    "data$enter <- sample(c(0,1), n, replace=TRUE)"
   ]
  },
  {
   "cell_type": "code",
   "execution_count": 2,
   "metadata": {
    "scrolled": true
   },
   "outputs": [
    {
     "data": {
      "text/html": [
       "<table>\n",
       "<thead><tr><th scope=col>gender</th><th scope=col>age</th><th scope=col>cigsperday</th><th scope=col>timefromwaking</th><th scope=col>intquit</th><th scope=col>determquit</th><th scope=col>livesmoke</th><th scope=col>imd</th><th scope=col>prev</th><th scope=col>treated</th><th scope=col>enter</th></tr></thead>\n",
       "<tbody>\n",
       "\t<tr><td>1       </td><td>30.88032</td><td>10      </td><td>50      </td><td>4       </td><td>3       </td><td>1       </td><td>2010.134</td><td>0       </td><td>1       </td><td>1       </td></tr>\n",
       "\t<tr><td>1       </td><td>46.03775</td><td>14      </td><td>42      </td><td>3       </td><td>3       </td><td>0       </td><td>2014.531</td><td>1       </td><td>1       </td><td>0       </td></tr>\n",
       "\t<tr><td>1       </td><td>42.13847</td><td>17      </td><td>49      </td><td>4       </td><td>4       </td><td>1       </td><td>1929.002</td><td>1       </td><td>1       </td><td>1       </td></tr>\n",
       "\t<tr><td>1       </td><td>26.19326</td><td>27      </td><td>43      </td><td>1       </td><td>5       </td><td>0       </td><td>1997.613</td><td>0       </td><td>1       </td><td>0       </td></tr>\n",
       "\t<tr><td>0       </td><td>32.00521</td><td>23      </td><td>49      </td><td>1       </td><td>2       </td><td>0       </td><td>1973.194</td><td>0       </td><td>1       </td><td>1       </td></tr>\n",
       "\t<tr><td>0       </td><td>45.17076</td><td>23      </td><td>45      </td><td>4       </td><td>2       </td><td>1       </td><td>2024.699</td><td>1       </td><td>1       </td><td>1       </td></tr>\n",
       "</tbody>\n",
       "</table>\n"
      ],
      "text/latex": [
       "\\begin{tabular}{r|lllllllllll}\n",
       " gender & age & cigsperday & timefromwaking & intquit & determquit & livesmoke & imd & prev & treated & enter\\\\\n",
       "\\hline\n",
       "\t 1        & 30.88032 & 10       & 50       & 4        & 3        & 1        & 2010.134 & 0        & 1        & 1       \\\\\n",
       "\t 1        & 46.03775 & 14       & 42       & 3        & 3        & 0        & 2014.531 & 1        & 1        & 0       \\\\\n",
       "\t 1        & 42.13847 & 17       & 49       & 4        & 4        & 1        & 1929.002 & 1        & 1        & 1       \\\\\n",
       "\t 1        & 26.19326 & 27       & 43       & 1        & 5        & 0        & 1997.613 & 0        & 1        & 0       \\\\\n",
       "\t 0        & 32.00521 & 23       & 49       & 1        & 2        & 0        & 1973.194 & 0        & 1        & 1       \\\\\n",
       "\t 0        & 45.17076 & 23       & 45       & 4        & 2        & 1        & 2024.699 & 1        & 1        & 1       \\\\\n",
       "\\end{tabular}\n"
      ],
      "text/markdown": [
       "\n",
       "gender | age | cigsperday | timefromwaking | intquit | determquit | livesmoke | imd | prev | treated | enter | \n",
       "|---|---|---|---|---|---|\n",
       "| 1        | 30.88032 | 10       | 50       | 4        | 3        | 1        | 2010.134 | 0        | 1        | 1        | \n",
       "| 1        | 46.03775 | 14       | 42       | 3        | 3        | 0        | 2014.531 | 1        | 1        | 0        | \n",
       "| 1        | 42.13847 | 17       | 49       | 4        | 4        | 1        | 1929.002 | 1        | 1        | 1        | \n",
       "| 1        | 26.19326 | 27       | 43       | 1        | 5        | 0        | 1997.613 | 0        | 1        | 0        | \n",
       "| 0        | 32.00521 | 23       | 49       | 1        | 2        | 0        | 1973.194 | 0        | 1        | 1        | \n",
       "| 0        | 45.17076 | 23       | 45       | 4        | 2        | 1        | 2024.699 | 1        | 1        | 1        | \n",
       "\n",
       "\n"
      ],
      "text/plain": [
       "  gender age      cigsperday timefromwaking intquit determquit livesmoke\n",
       "1 1      30.88032 10         50             4       3          1        \n",
       "2 1      46.03775 14         42             3       3          0        \n",
       "3 1      42.13847 17         49             4       4          1        \n",
       "4 1      26.19326 27         43             1       5          0        \n",
       "5 0      32.00521 23         49             1       2          0        \n",
       "6 0      45.17076 23         45             4       2          1        \n",
       "  imd      prev treated enter\n",
       "1 2010.134 0    1       1    \n",
       "2 2014.531 1    1       0    \n",
       "3 1929.002 1    1       1    \n",
       "4 1997.613 0    1       0    \n",
       "5 1973.194 0    1       1    \n",
       "6 2024.699 1    1       1    "
      ]
     },
     "metadata": {},
     "output_type": "display_data"
    }
   ],
   "source": [
    "data %>% head()"
   ]
  },
  {
   "cell_type": "markdown",
   "metadata": {},
   "source": [
    "# SYNOPSIS OF STUDY DESIGN AND PROCEDURES"
   ]
  },
  {
   "cell_type": "markdown",
   "metadata": {},
   "source": [
    "## Analysis Considerations\n",
    "\n",
    "### Types of analysis\n",
    "\n",
    "We will compare our binary primary outcome; **entry to the smoking cessation service**,\n",
    "between the intervention and control groups. Thus, the proportion of people entering the\n",
    "smoking cessation service (over a period of 6 months from the receipt of the invitation letter)\n",
    "will be reported along with the difference between the intervention and control groups\n",
    "together with a 95% confidence interval. This will be our primary result.\n"
   ]
  },
  {
   "cell_type": "code",
   "execution_count": 3,
   "metadata": {},
   "outputs": [
    {
     "name": "stdout",
     "output_type": "stream",
     "text": [
      "Proportion of people entering the smoking cessation service: 0.5056"
     ]
    }
   ],
   "source": [
    "# proportion entering\n",
    "prop <- mean(data$enter)\n",
    "\n",
    "cat(\"Proportion of people entering the smoking cessation service:\", prop)"
   ]
  },
  {
   "cell_type": "code",
   "execution_count": 4,
   "metadata": {},
   "outputs": [
    {
     "name": "stdout",
     "output_type": "stream",
     "text": [
      "Difference in means with 95% CI: 0.009333333 ± 0.02829432"
     ]
    }
   ],
   "source": [
    "# difference in means\n",
    "avgt <- data %>% filter(treated == 1) %>% summarize(avg = mean(enter))\n",
    "avgc <- data %>% filter(treated == 0) %>% summarize(avg = mean(enter))\n",
    "diff <- as.numeric(avgt - avgc)\n",
    "\n",
    "# standard error\n",
    "st <- data %>% filter(treated == 1) %>% summarize(var = var(enter)) %>% as.numeric()\n",
    "sc <- data %>% filter(treated == 0) %>% summarize(var = var(enter)) %>% as.numeric()\n",
    "\n",
    "se <- sqrt(st / n_t + sc / (n - n_t))\n",
    "\n",
    "cat(\"Difference in means with 95% CI:\", diff, \"±\", 1.96 * se)"
   ]
  },
  {
   "cell_type": "markdown",
   "metadata": {},
   "source": [
    "However, adjustment\n",
    "for baseline covariates is often advised, firstly to correct for any chance imbalances in\n",
    "important baseline variables following randomisation, and secondly, because adjusting for\n",
    "highly important baseline variables in an RCT can improve the precision of treatment effect\n",
    "estimates even when the outcome measure is binary. \n",
    "\n",
    "Statistical testing for baseline\n",
    "imbalances is not advised and instead key covariates should be selected prior to analysis\n",
    "based on the likely magnitude of the association with the outcome measure (European\n",
    "Agency for the Evaluation of Medicinal Products, 2003). \n",
    "\n",
    "We will therefore also perform a\n",
    "multivariable logistic regression to take into account any imbalance that may occur in\n",
    "important baseline characteristics known to predict smoking cessation outcomes between\n",
    "the groups:\n",
    "- gender\n",
    "- age\n",
    "- dependence score (cigs per day+time from waking)\n",
    "- intention to quit\n",
    "- determination to quit\n",
    "- longest previous quit\n",
    "- live with smokers\n",
    "- deprivation (IMD score)\n",
    "- previous NHS SSS attendance\n",
    "\n",
    "\n",
    "Odds ratios will be quoted together with their 95% confidence intervals and exact P-values. "
   ]
  },
  {
   "cell_type": "code",
   "execution_count": 5,
   "metadata": {
    "collapsed": true
   },
   "outputs": [],
   "source": [
    "## compute dependence scores as in section 2.1.2\n",
    "data <- data %>% mutate(cigscore = ifelse(cigsperday <= 10, 0,\n",
    "                                         ifelse(cigsperday <= 20, 1,\n",
    "                                               ifelse(cigsperday <= 30, 2,\n",
    "                                                     3))),\n",
    "                       wakescore = ifelse(timefromwaking > 60, 0, \n",
    "                                         ifelse(timefromwaking >30, 1,\n",
    "                                               ifelse(timefromwaking > 5, 2, 3)\n",
    "                                               )\n",
    "                                         ),\n",
    "                       depscore = cigscore + wakescore)\n"
   ]
  },
  {
   "cell_type": "code",
   "execution_count": 6,
   "metadata": {
    "collapsed": true
   },
   "outputs": [],
   "source": [
    "## fit multivariate logistic regression for covariate adjustment\n",
    "fit1 <- glm(enter ~ treated +gender + age + depscore + intquit + \n",
    "           determquit + livesmoke + imd + prev,\n",
    "          family = binomial,\n",
    "          data)"
   ]
  },
  {
   "cell_type": "code",
   "execution_count": 7,
   "metadata": {},
   "outputs": [
    {
     "name": "stderr",
     "output_type": "stream",
     "text": [
      "Waiting for profiling to be done...\n"
     ]
    },
    {
     "data": {
      "text/html": [
       "<table>\n",
       "<thead><tr><th></th><th scope=col>coefficients</th><th scope=col>estimate</th><th scope=col>2.5%</th><th scope=col>97.5%</th></tr></thead>\n",
       "<tbody>\n",
       "\t<tr><th scope=row>(Intercept)</th><td>(Intercept)</td><td>0.5304440  </td><td>0.1660724  </td><td>1.692652   </td></tr>\n",
       "\t<tr><th scope=row>treated</th><td>treated    </td><td>1.0376879  </td><td>0.9264529  </td><td>1.162293   </td></tr>\n",
       "\t<tr><th scope=row>gender</th><td>gender     </td><td>0.9737083  </td><td>0.8713133  </td><td>1.088122   </td></tr>\n",
       "\t<tr><th scope=row>age</th><td>age        </td><td>0.9975362  </td><td>0.9919944  </td><td>1.003105   </td></tr>\n",
       "\t<tr><th scope=row>depscore</th><td>depscore   </td><td>0.9808867  </td><td>0.8934839  </td><td>1.076822   </td></tr>\n",
       "\t<tr><th scope=row>intquit</th><td>intquit    </td><td>1.0021600  </td><td>0.9537233  </td><td>1.053059   </td></tr>\n",
       "\t<tr><th scope=row>determquit</th><td>determquit </td><td>1.0023492  </td><td>0.9636502  </td><td>1.042604   </td></tr>\n",
       "\t<tr><th scope=row>livesmoke</th><td>livesmoke  </td><td>0.9561738  </td><td>0.8556823  </td><td>1.068439   </td></tr>\n",
       "\t<tr><th scope=row>imd</th><td>imd        </td><td>1.0004137  </td><td>0.9998625  </td><td>1.000966   </td></tr>\n",
       "\t<tr><th scope=row>prev</th><td>prev       </td><td>0.9544624  </td><td>0.8541433  </td><td>1.066537   </td></tr>\n",
       "</tbody>\n",
       "</table>\n"
      ],
      "text/latex": [
       "\\begin{tabular}{r|llll}\n",
       "  & coefficients & estimate & 2.5\\% & 97.5\\%\\\\\n",
       "\\hline\n",
       "\t(Intercept) & (Intercept) & 0.5304440   & 0.1660724   & 1.692652   \\\\\n",
       "\ttreated & treated     & 1.0376879   & 0.9264529   & 1.162293   \\\\\n",
       "\tgender & gender      & 0.9737083   & 0.8713133   & 1.088122   \\\\\n",
       "\tage & age         & 0.9975362   & 0.9919944   & 1.003105   \\\\\n",
       "\tdepscore & depscore    & 0.9808867   & 0.8934839   & 1.076822   \\\\\n",
       "\tintquit & intquit     & 1.0021600   & 0.9537233   & 1.053059   \\\\\n",
       "\tdetermquit & determquit  & 1.0023492   & 0.9636502   & 1.042604   \\\\\n",
       "\tlivesmoke & livesmoke   & 0.9561738   & 0.8556823   & 1.068439   \\\\\n",
       "\timd & imd         & 1.0004137   & 0.9998625   & 1.000966   \\\\\n",
       "\tprev & prev        & 0.9544624   & 0.8541433   & 1.066537   \\\\\n",
       "\\end{tabular}\n"
      ],
      "text/markdown": [
       "\n",
       "| <!--/--> | coefficients | estimate | 2.5% | 97.5% | \n",
       "|---|---|---|---|---|---|---|---|---|---|\n",
       "| (Intercept) | (Intercept) | 0.5304440   | 0.1660724   | 1.692652    | \n",
       "| treated | treated     | 1.0376879   | 0.9264529   | 1.162293    | \n",
       "| gender | gender      | 0.9737083   | 0.8713133   | 1.088122    | \n",
       "| age | age         | 0.9975362   | 0.9919944   | 1.003105    | \n",
       "| depscore | depscore    | 0.9808867   | 0.8934839   | 1.076822    | \n",
       "| intquit | intquit     | 1.0021600   | 0.9537233   | 1.053059    | \n",
       "| determquit | determquit  | 1.0023492   | 0.9636502   | 1.042604    | \n",
       "| livesmoke | livesmoke   | 0.9561738   | 0.8556823   | 1.068439    | \n",
       "| imd | imd         | 1.0004137   | 0.9998625   | 1.000966    | \n",
       "| prev | prev        | 0.9544624   | 0.8541433   | 1.066537    | \n",
       "\n",
       "\n"
      ],
      "text/plain": [
       "            coefficients estimate  2.5%      97.5%   \n",
       "(Intercept) (Intercept)  0.5304440 0.1660724 1.692652\n",
       "treated     treated      1.0376879 0.9264529 1.162293\n",
       "gender      gender       0.9737083 0.8713133 1.088122\n",
       "age         age          0.9975362 0.9919944 1.003105\n",
       "depscore    depscore     0.9808867 0.8934839 1.076822\n",
       "intquit     intquit      1.0021600 0.9537233 1.053059\n",
       "determquit  determquit   1.0023492 0.9636502 1.042604\n",
       "livesmoke   livesmoke    0.9561738 0.8556823 1.068439\n",
       "imd         imd          1.0004137 0.9998625 1.000966\n",
       "prev        prev         0.9544624 0.8541433 1.066537"
      ]
     },
     "metadata": {},
     "output_type": "display_data"
    }
   ],
   "source": [
    "# compute estimates for odds ratios and 95% CIs\n",
    "ci1 <- exp(confint(fit1))\n",
    "oddsr1 <- data.frame(list(names(coef(fit1)), exp(coef(fit1)),\n",
    "                         ci1[,1], ci1[,2]))\n",
    "names(oddsr1) <- c(\"coefficients\", \"estimate\", \"2.5%\", \"97.5%\")\n",
    "oddsr1"
   ]
  },
  {
   "cell_type": "markdown",
   "metadata": {},
   "source": [
    "We will account for the therapist effect (see section 1.10 above), by including the allocated\n",
    "taster session in our model as a random effect nested within the SSS cluster. We have\n",
    "chosen to nest within SSS rather than practice as the therapists were SSS rather than\n",
    "practice based.\n",
    "For the analysis of the 7-day point prevalence abstinence at the 6-month follow-up we\n",
    "will follow the same plan as described above.\n",
    "If cessation shows an effect without attendance then we will examine differences in the\n",
    "pattern of characteristics within each arm."
   ]
  },
  {
   "cell_type": "markdown",
   "metadata": {},
   "source": [
    "#### Unit of analysis considerations\n",
    "In the multivariable analysis we will use following categorisation for the covariate analyses:\n",
    "- Gender (binary): Baseline questionnaire D4 - male/female\n",
    "- Age in years (continuous): Baseline questionnaire D6\n",
    "- Dependence score (continuous score 0-6):\n",
    "\n",
    "|Cigs per day (Baseline questionnaire Qs A4/6) | Score | Time from waking baseline questionnaire Qs B2 | Score|\n",
    "|---|---|---|---|\n",
    "|5 | 0 | >2hrs |0|\n",
    "|6 to 10 |0 |1-2hrs |0| \n",
    "|11 to 20 |1 |31-60 mins |1|\n",
    "|21 to 30 | 2 | <30 mins | 2|\n",
    "|>30 | 3 | <5 mins | 3|\n",
    "\n",
    "- Intention to quit (categorical): Baseline questionnaire B4: “Are you planning to quit:\n",
    "within 2weeks/30 days/ 6 months/ not within 6 months?”\n",
    "- Determination to quit: Baseline questionnaire B9 “How determined are you to quit for\n",
    "good?” Likert scale 1 to 5\n",
    "- Longest previous quit (categorical): Baseline questionnaire B3: “What is the longest you\n",
    "have ever quit smoking for?” less than 24 hrs/1-6 days/1-4 weeks/> 1 month\n",
    "- Live with other smokers (binary): Baseline questionnaire D2 yes/no\n",
    "- Deprivation (measured by IMD score) (continuous)\n",
    "- Previous NHS SSS attendance (binary): Baseline questionnaire B7 ‘Have you attended\n",
    "an NHS SSS ----?’ yes/no"
   ]
  },
  {
   "cell_type": "markdown",
   "metadata": {
    "collapsed": true
   },
   "source": [
    "#### Effect modification and sub group analyses\n",
    "In order to assess whether the intervention is any more effective for any particular subgroup\n",
    "of smokers we will explore if there is an interaction between treatment and gender, treatment\n",
    "and age, and treatment and deprivation. This will be carried out for the primary outcome\n",
    "(attendance) and 7-day point prevalent abstinence at the 6-month follow-up.\n"
   ]
  },
  {
   "cell_type": "code",
   "execution_count": 8,
   "metadata": {
    "collapsed": true
   },
   "outputs": [],
   "source": [
    "## fit multivariate logistic regression with interactions\n",
    "fit2 <- glm(enter ~ treated + treated * gender + treated * depscore + \n",
    "           gender + age + depscore + intquit + \n",
    "           determquit + livesmoke + imd + prev,\n",
    "          family = binomial,\n",
    "          data)"
   ]
  },
  {
   "cell_type": "markdown",
   "metadata": {},
   "source": [
    "\n"
   ]
  },
  {
   "cell_type": "code",
   "execution_count": 9,
   "metadata": {},
   "outputs": [
    {
     "name": "stderr",
     "output_type": "stream",
     "text": [
      "Waiting for profiling to be done...\n"
     ]
    },
    {
     "data": {
      "text/html": [
       "<table>\n",
       "<thead><tr><th></th><th scope=col>coefficients</th><th scope=col>estimate</th><th scope=col>2.5%</th><th scope=col>97.5%</th></tr></thead>\n",
       "<tbody>\n",
       "\t<tr><th scope=row>(Intercept)</th><td>(Intercept)     </td><td>0.5334440       </td><td>0.1608458       </td><td>1.767559        </td></tr>\n",
       "\t<tr><th scope=row>treated</th><td>treated         </td><td>1.0232154       </td><td>0.6172014       </td><td>1.696190        </td></tr>\n",
       "\t<tr><th scope=row>gender</th><td>gender          </td><td>0.9312349       </td><td>0.7812966       </td><td>1.109846        </td></tr>\n",
       "\t<tr><th scope=row>depscore</th><td>depscore        </td><td>0.9862090       </td><td>0.8490991       </td><td>1.145416        </td></tr>\n",
       "\t<tr><th scope=row>age</th><td>age             </td><td>0.9975242       </td><td>0.9919809       </td><td>1.003094        </td></tr>\n",
       "\t<tr><th scope=row>intquit</th><td>intquit         </td><td>1.0015919       </td><td>0.9531518       </td><td>1.052495        </td></tr>\n",
       "\t<tr><th scope=row>determquit</th><td>determquit      </td><td>1.0023544       </td><td>0.9636527       </td><td>1.042612        </td></tr>\n",
       "\t<tr><th scope=row>livesmoke</th><td>livesmoke       </td><td>0.9565514       </td><td>0.8560103       </td><td>1.068874        </td></tr>\n",
       "\t<tr><th scope=row>imd</th><td>imd             </td><td>1.0004160       </td><td>0.9998647       </td><td>1.000968        </td></tr>\n",
       "\t<tr><th scope=row>prev</th><td>prev            </td><td>0.9545049       </td><td>0.8541621       </td><td>1.066608        </td></tr>\n",
       "\t<tr><th scope=row>treated:gender</th><td>treated:gender  </td><td>1.0773891       </td><td>0.8588824       </td><td>1.351563        </td></tr>\n",
       "\t<tr><th scope=row>treated:depscore</th><td>treated:depscore</td><td>0.9906725       </td><td>0.8180587       </td><td>1.199722        </td></tr>\n",
       "</tbody>\n",
       "</table>\n"
      ],
      "text/latex": [
       "\\begin{tabular}{r|llll}\n",
       "  & coefficients & estimate & 2.5\\% & 97.5\\%\\\\\n",
       "\\hline\n",
       "\t(Intercept) & (Intercept)      & 0.5334440        & 0.1608458        & 1.767559        \\\\\n",
       "\ttreated & treated          & 1.0232154        & 0.6172014        & 1.696190        \\\\\n",
       "\tgender & gender           & 0.9312349        & 0.7812966        & 1.109846        \\\\\n",
       "\tdepscore & depscore         & 0.9862090        & 0.8490991        & 1.145416        \\\\\n",
       "\tage & age              & 0.9975242        & 0.9919809        & 1.003094        \\\\\n",
       "\tintquit & intquit          & 1.0015919        & 0.9531518        & 1.052495        \\\\\n",
       "\tdetermquit & determquit       & 1.0023544        & 0.9636527        & 1.042612        \\\\\n",
       "\tlivesmoke & livesmoke        & 0.9565514        & 0.8560103        & 1.068874        \\\\\n",
       "\timd & imd              & 1.0004160        & 0.9998647        & 1.000968        \\\\\n",
       "\tprev & prev             & 0.9545049        & 0.8541621        & 1.066608        \\\\\n",
       "\ttreated:gender & treated:gender   & 1.0773891        & 0.8588824        & 1.351563        \\\\\n",
       "\ttreated:depscore & treated:depscore & 0.9906725        & 0.8180587        & 1.199722        \\\\\n",
       "\\end{tabular}\n"
      ],
      "text/markdown": [
       "\n",
       "| <!--/--> | coefficients | estimate | 2.5% | 97.5% | \n",
       "|---|---|---|---|---|---|---|---|---|---|---|---|\n",
       "| (Intercept) | (Intercept)      | 0.5334440        | 0.1608458        | 1.767559         | \n",
       "| treated | treated          | 1.0232154        | 0.6172014        | 1.696190         | \n",
       "| gender | gender           | 0.9312349        | 0.7812966        | 1.109846         | \n",
       "| depscore | depscore         | 0.9862090        | 0.8490991        | 1.145416         | \n",
       "| age | age              | 0.9975242        | 0.9919809        | 1.003094         | \n",
       "| intquit | intquit          | 1.0015919        | 0.9531518        | 1.052495         | \n",
       "| determquit | determquit       | 1.0023544        | 0.9636527        | 1.042612         | \n",
       "| livesmoke | livesmoke        | 0.9565514        | 0.8560103        | 1.068874         | \n",
       "| imd | imd              | 1.0004160        | 0.9998647        | 1.000968         | \n",
       "| prev | prev             | 0.9545049        | 0.8541621        | 1.066608         | \n",
       "| treated:gender | treated:gender   | 1.0773891        | 0.8588824        | 1.351563         | \n",
       "| treated:depscore | treated:depscore | 0.9906725        | 0.8180587        | 1.199722         | \n",
       "\n",
       "\n"
      ],
      "text/plain": [
       "                 coefficients     estimate  2.5%      97.5%   \n",
       "(Intercept)      (Intercept)      0.5334440 0.1608458 1.767559\n",
       "treated          treated          1.0232154 0.6172014 1.696190\n",
       "gender           gender           0.9312349 0.7812966 1.109846\n",
       "depscore         depscore         0.9862090 0.8490991 1.145416\n",
       "age              age              0.9975242 0.9919809 1.003094\n",
       "intquit          intquit          1.0015919 0.9531518 1.052495\n",
       "determquit       determquit       1.0023544 0.9636527 1.042612\n",
       "livesmoke        livesmoke        0.9565514 0.8560103 1.068874\n",
       "imd              imd              1.0004160 0.9998647 1.000968\n",
       "prev             prev             0.9545049 0.8541621 1.066608\n",
       "treated:gender   treated:gender   1.0773891 0.8588824 1.351563\n",
       "treated:depscore treated:depscore 0.9906725 0.8180587 1.199722"
      ]
     },
     "metadata": {},
     "output_type": "display_data"
    }
   ],
   "source": [
    "# compute estimates for odds ratios and 95% CIs\n",
    "ci2 <- exp(confint(fit2))\n",
    "oddsr2 <- data.frame(list(names(coef(fit2)), exp(coef(fit2)),\n",
    "                         ci2[,1], ci2[,2]))\n",
    "names(oddsr2) <- c(\"coefficients\", \"estimate\", \"2.5%\", \"97.5%\")\n",
    "oddsr2"
   ]
  },
  {
   "cell_type": "markdown",
   "metadata": {},
   "source": [
    "#### Timing of analyses\n",
    "Preliminary analyses will be done in January 2014. The final analysis will be done in April\n",
    "2015."
   ]
  }
 ],
 "metadata": {
  "kernelspec": {
   "display_name": "R",
   "language": "R",
   "name": "ir"
  },
  "language_info": {
   "codemirror_mode": "r",
   "file_extension": ".r",
   "mimetype": "text/x-r-source",
   "name": "R",
   "pygments_lexer": "r",
   "version": "3.4.3"
  }
 },
 "nbformat": 4,
 "nbformat_minor": 2
}
